{
 "cells": [
  {
   "cell_type": "code",
   "execution_count": null,
   "metadata": {},
   "outputs": [],
   "source": [
    "import os\n",
    "import json\n",
    "\n",
    "original_english_context_file_path = '/Users/huqianghui/Downloads/books-translations/books/TheInnovatorsDilemmaWhenNewTechnoloClaytonMChristensen-chart1.md'\n",
    "english_chart_file_path = '/Users/huqianghui/Downloads/books-translations/book-chunks'\n",
    "chinese_chart_file_path = '/Users/huqianghui/Downloads/books-translations/translated-book-chunks/final-publishing-version-book-chunks'\n",
    "\n",
    "\n",
    "# 获取所有.md文件名，存储在列表中\n",
    "english_chart_md_files = [filename for filename in os.listdir(english_chart_file_path) if filename.endswith('.md')]\n",
    "# 按文件名升序排序\n",
    "english_chart_md_files.sort()\n",
    "\n",
    "data_jsonl_path = os.path.join(chinese_chart_file_path, 'data.jsonl')\n",
    "\n",
    "# Before the loop, check if the data.jsonl file exists and delete it to start fresh\n",
    "if os.path.exists(data_jsonl_path):\n",
    "    os.remove(data_jsonl_path)\n",
    "\n",
    "\n",
    "for filename in english_chart_md_files:\n",
    "    english_chart_file_ab_path = os.path.join(english_chart_file_path, filename)\n",
    "    chinese_chart_file_ab_path = os.path.join(chinese_chart_file_path, filename)\n",
    "     # Check if it's a file and has a .md extension\n",
    "    if os.path.isfile(english_chart_file_ab_path) and filename.endswith('.md'):\n",
    "        with open(data_jsonl_path, 'a') as f:\n",
    "            record = {\"original_english_context_file_path\":original_english_context_file_path,\"current_english_chart_file_path\": english_chart_file_ab_path,\"translated_chinese_text_file_path\":chinese_chart_file_ab_path}\n",
    "            f.write(json.dumps(record) + '\\n')\n"
   ]
  },
  {
   "cell_type": "code",
   "execution_count": null,
   "metadata": {},
   "outputs": [],
   "source": [
    "import json\n",
    "\n",
    "english_chart_file_path = '/Users/huqianghui/Downloads/books-translations/book-chunks'\n",
    "\n",
    "english_book_file_path = '/Users/huqianghui/Downloads/books-translations/books/TheInnovatorsDilemmaWhenNewTechnoloClaytonMChristensen-chart1.md'\n",
    "\n",
    "# 获取所有.md文件名，存储在列表中\n",
    "english_chart_md_files = [filename for filename in os.listdir(english_chart_file_path) if filename.endswith('.md')]\n",
    "# 按文件名升序排序\n",
    "english_chart_md_files.sort()\n",
    "\n",
    "with open(english_book_file_path, 'w') as target_file:\n",
    "    for filename in english_chart_md_files:\n",
    "        english_chart_file_ab_path = os.path.join(english_chart_file_path, filename)\n",
    "        # Check if it's a file and has a .md extension\n",
    "        if os.path.isfile(english_chart_file_ab_path) and filename.endswith('.md'):\n",
    "            with open(english_chart_file_ab_path, 'r') as md_file:\n",
    "                # Read the content of the markdown file\n",
    "                content = md_file.read()\n",
    "                # Write the content to the target file\n",
    "                target_file.write(content)\n",
    "                # Optionally, write a newline as a separator\n",
    "                target_file.write('\\n\\n')\n"
   ]
  },
  {
   "cell_type": "code",
   "execution_count": 2,
   "metadata": {},
   "outputs": [
    {
     "name": "stderr",
     "output_type": "stream",
     "text": [
      "[2024-07-12 16:21:29 +0800][promptflow._sdk._orchestrator.run_submitter][INFO] - Submitting run translation_evaluation_flow_v02_variant_0_20240712_162129_334027, log path: /Users/huqianghui/.promptflow/.runs/translation_evaluation_flow_v02_variant_0_20240712_162129_334027/logs.txt\n"
     ]
    },
    {
     "name": "stdout",
     "output_type": "stream",
     "text": [
      "Prompt flow service has started...\n",
      "You can view the traces in local from http://127.0.0.1:23333/v1.0/ui/traces/?#run=translation_evaluation_flow_v02_variant_0_20240712_162129_334027\n"
     ]
    }
   ],
   "source": [
    "from promptflow.client import load_run\n",
    "from promptflow.client import PFClient\n",
    "\n",
    "# client can help manage your runs and connections.\n",
    "pf = PFClient()\n",
    "\n",
    "# load a run from YAML file\n",
    "base_run = load_run(\n",
    "    source=\"/Users/huqianghui/Downloads/books-translations/translation-evaluation-flow-v02/run.yaml\"\n",
    ")\n",
    "\n",
    "# create the run\n",
    "base_run = pf.runs.create_or_update(run=base_run)"
   ]
  }
 ],
 "metadata": {
  "kernelspec": {
   "display_name": ".venv",
   "language": "python",
   "name": "python3"
  },
  "language_info": {
   "codemirror_mode": {
    "name": "ipython",
    "version": 3
   },
   "file_extension": ".py",
   "mimetype": "text/x-python",
   "name": "python",
   "nbconvert_exporter": "python",
   "pygments_lexer": "ipython3",
   "version": "3.11.9"
  }
 },
 "nbformat": 4,
 "nbformat_minor": 2
}
