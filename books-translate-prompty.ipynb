{
 "cells": [
  {
   "cell_type": "code",
   "execution_count": null,
   "metadata": {},
   "outputs": [],
   "source": [
    "%pip install promptflow promptflow-tools"
   ]
  },
  {
   "cell_type": "code",
   "execution_count": 4,
   "metadata": {},
   "outputs": [],
   "source": [
    "from promptflow.core import Prompty, AzureOpenAIModelConfiguration\n",
    "\n",
    "# Load prompty with OpenAIModelConfiguration override\n",
    "configuration = AzureOpenAIModelConfiguration(\n",
    "    azure_deployment=\"gpt-4o\",\n",
    "    api_version=\"2024-02-01\",\n",
    "    azure_endpoint=\"${env:AZURE_OPENAI_ENDPOINT}\",\n",
    "    api_key=\"${env:AZURE_OPENAI_KEY}\",\n",
    ")\n",
    "override_model = {\n",
    "    \"configuration\": configuration\n",
    "}\n",
    "\n",
    "\n",
    "translate_prompty = Prompty.load(source=\"/Users/huqianghui/Downloads/books-translations/translate_prompty.prompty\", model=override_model)"
   ]
  },
  {
   "cell_type": "code",
   "execution_count": 5,
   "metadata": {},
   "outputs": [],
   "source": [
    "# 指定Markdown文件的路径\n",
    "md_file_path = '/Users/huqianghui/Downloads/books-translations/book-chunks/TheInnovatorsDilemmaWhenNewTechnoloClaytonMChristensen-chart1-0.md'\n",
    "\n",
    "# 使用with语句打开文件，这样可以确保文件在读取后会被正确关闭\n",
    "with open(md_file_path, 'r', encoding='utf-8') as file:\n",
    "    # 读取文件的全部内容\n",
    "    md_content = file.read()\n",
    "\n",
    "result = translate_prompty(english_text=md_content)\n",
    "\n"
   ]
  },
  {
   "cell_type": "code",
   "execution_count": 6,
   "metadata": {},
   "outputs": [
    {
     "name": "stdout",
     "output_type": "stream",
     "text": [
      "Translation written to the new file successfully.\n"
     ]
    }
   ],
   "source": [
    "# 指定要写入的新文件的路径\n",
    "new_md_file_path = '/Users/huqianghui/Downloads/books-translations/translated-book-chunks/TheInnovatorsDilemmaWhenNewTechnoloClaytonMChristensen-chart1-0_translated.md'\n",
    "\n",
    "# 使用with语句和'w'模式打开文件，这样可以确保文件在写入后会被正确关闭\n",
    "with open(new_md_file_path, 'w', encoding='utf-8') as file:\n",
    "    # 将result的内容写入文件\n",
    "    file.write(result)\n",
    "\n",
    "# 如果需要，打印一个消息确认写入操作完成\n",
    "print(\"Translation written to the new file successfully.\")"
   ]
  }
 ],
 "metadata": {
  "kernelspec": {
   "display_name": ".venv",
   "language": "python",
   "name": "python3"
  },
  "language_info": {
   "codemirror_mode": {
    "name": "ipython",
    "version": 3
   },
   "file_extension": ".py",
   "mimetype": "text/x-python",
   "name": "python",
   "nbconvert_exporter": "python",
   "pygments_lexer": "ipython3",
   "version": "3.11.9"
  }
 },
 "nbformat": 4,
 "nbformat_minor": 2
}
